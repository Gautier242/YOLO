{
 "cells": [
  {
   "cell_type": "code",
   "execution_count": 6,
   "outputs": [
    {
     "name": "stdout",
     "output_type": "stream",
     "text": [
      "Requirement already satisfied: tensorboard in /home/jpldev/anaconda3/lib/python3.11/site-packages (2.15.1)\r\n",
      "Requirement already satisfied: absl-py>=0.4 in /home/jpldev/anaconda3/lib/python3.11/site-packages (from tensorboard) (2.0.0)\r\n",
      "Requirement already satisfied: grpcio>=1.48.2 in /home/jpldev/anaconda3/lib/python3.11/site-packages (from tensorboard) (1.60.0)\r\n",
      "Requirement already satisfied: google-auth<3,>=1.6.3 in /home/jpldev/anaconda3/lib/python3.11/site-packages (from tensorboard) (2.25.2)\r\n",
      "Requirement already satisfied: google-auth-oauthlib<2,>=0.5 in /home/jpldev/anaconda3/lib/python3.11/site-packages (from tensorboard) (1.2.0)\r\n",
      "Requirement already satisfied: markdown>=2.6.8 in /home/jpldev/anaconda3/lib/python3.11/site-packages (from tensorboard) (3.4.1)\r\n",
      "Requirement already satisfied: numpy>=1.12.0 in /home/jpldev/anaconda3/lib/python3.11/site-packages (from tensorboard) (1.24.3)\r\n",
      "Requirement already satisfied: protobuf<4.24,>=3.19.6 in /home/jpldev/anaconda3/lib/python3.11/site-packages (from tensorboard) (4.23.4)\r\n",
      "Requirement already satisfied: requests<3,>=2.21.0 in /home/jpldev/anaconda3/lib/python3.11/site-packages (from tensorboard) (2.31.0)\r\n",
      "Requirement already satisfied: setuptools>=41.0.0 in /home/jpldev/anaconda3/lib/python3.11/site-packages (from tensorboard) (68.0.0)\r\n",
      "Requirement already satisfied: six>1.9 in /home/jpldev/anaconda3/lib/python3.11/site-packages (from tensorboard) (1.16.0)\r\n",
      "Requirement already satisfied: tensorboard-data-server<0.8.0,>=0.7.0 in /home/jpldev/anaconda3/lib/python3.11/site-packages (from tensorboard) (0.7.2)\r\n",
      "Requirement already satisfied: werkzeug>=1.0.1 in /home/jpldev/anaconda3/lib/python3.11/site-packages (from tensorboard) (2.2.3)\r\n",
      "Requirement already satisfied: cachetools<6.0,>=2.0.0 in /home/jpldev/anaconda3/lib/python3.11/site-packages (from google-auth<3,>=1.6.3->tensorboard) (5.3.2)\r\n",
      "Requirement already satisfied: pyasn1-modules>=0.2.1 in /home/jpldev/anaconda3/lib/python3.11/site-packages (from google-auth<3,>=1.6.3->tensorboard) (0.2.8)\r\n",
      "Requirement already satisfied: rsa<5,>=3.1.4 in /home/jpldev/anaconda3/lib/python3.11/site-packages (from google-auth<3,>=1.6.3->tensorboard) (4.9)\r\n",
      "Requirement already satisfied: requests-oauthlib>=0.7.0 in /home/jpldev/anaconda3/lib/python3.11/site-packages (from google-auth-oauthlib<2,>=0.5->tensorboard) (1.3.1)\r\n",
      "Requirement already satisfied: charset-normalizer<4,>=2 in /home/jpldev/anaconda3/lib/python3.11/site-packages (from requests<3,>=2.21.0->tensorboard) (2.0.4)\r\n",
      "Requirement already satisfied: idna<4,>=2.5 in /home/jpldev/anaconda3/lib/python3.11/site-packages (from requests<3,>=2.21.0->tensorboard) (3.4)\r\n",
      "Requirement already satisfied: urllib3<3,>=1.21.1 in /home/jpldev/anaconda3/lib/python3.11/site-packages (from requests<3,>=2.21.0->tensorboard) (1.26.16)\r\n",
      "Requirement already satisfied: certifi>=2017.4.17 in /home/jpldev/anaconda3/lib/python3.11/site-packages (from requests<3,>=2.21.0->tensorboard) (2023.11.17)\r\n",
      "Requirement already satisfied: MarkupSafe>=2.1.1 in /home/jpldev/anaconda3/lib/python3.11/site-packages (from werkzeug>=1.0.1->tensorboard) (2.1.1)\r\n",
      "Requirement already satisfied: pyasn1<0.5.0,>=0.4.6 in /home/jpldev/anaconda3/lib/python3.11/site-packages (from pyasn1-modules>=0.2.1->google-auth<3,>=1.6.3->tensorboard) (0.4.8)\r\n",
      "Requirement already satisfied: oauthlib>=3.0.0 in /home/jpldev/anaconda3/lib/python3.11/site-packages (from requests-oauthlib>=0.7.0->google-auth-oauthlib<2,>=0.5->tensorboard) (3.2.2)\r\n"
     ]
    }
   ],
   "source": [
    "!pip install tensorboard"
   ],
   "metadata": {
    "collapsed": false,
    "ExecuteTime": {
     "end_time": "2023-12-20T01:20:13.115114803Z",
     "start_time": "2023-12-20T01:20:04.626933656Z"
    }
   },
   "id": "abe94800228f8345"
  },
  {
   "cell_type": "code",
   "execution_count": 14,
   "outputs": [
    {
     "name": "stdout",
     "output_type": "stream",
     "text": [
      "2023-12-19 17:27:34.558034: E external/local_xla/xla/stream_executor/cuda/cuda_dnn.cc:9261] Unable to register cuDNN factory: Attempting to register factory for plugin cuDNN when one has already been registered\r\n",
      "2023-12-19 17:27:34.558104: E external/local_xla/xla/stream_executor/cuda/cuda_fft.cc:607] Unable to register cuFFT factory: Attempting to register factory for plugin cuFFT when one has already been registered\r\n",
      "2023-12-19 17:27:34.560233: E external/local_xla/xla/stream_executor/cuda/cuda_blas.cc:1515] Unable to register cuBLAS factory: Attempting to register factory for plugin cuBLAS when one has already been registered\r\n",
      "2023-12-19 17:27:36.140671: W tensorflow/compiler/tf2tensorrt/utils/py_utils.cc:38] TF-TRT Warning: Could not find TensorRT\r\n",
      "\r\n",
      "NOTE: Using experimental fast data loading logic. To disable, pass\r\n",
      "    \"--load_fast=false\" and report issues on GitHub. More details:\r\n",
      "    https://github.com/tensorflow/tensorboard/issues/4784\r\n",
      "\r\n",
      "TensorBoard 2.15.1 at http://jpldev-X9DRG-QF:6006/ (Press CTRL+C to quit)\r\n",
      "^C\r\n"
     ]
    }
   ],
   "source": [
    "import tensorboard\n",
    "\n",
    "#LOCAL\n",
    "!tensorboard --bind_all --logdir /home/jpldev/Desktop/Gautier/SWOT/Workspace/YOLO/runs/detect/train3"
   ],
   "metadata": {
    "collapsed": false,
    "ExecuteTime": {
     "end_time": "2023-12-20T01:28:40.761626978Z",
     "start_time": "2023-12-20T01:27:32.374907218Z"
    }
   },
   "id": "7725b8b0bce0b985"
  },
  {
   "cell_type": "code",
   "execution_count": 12,
   "outputs": [
    {
     "name": "stdout",
     "output_type": "stream",
     "text": [
      "2023-12-19 17:26:43.711892: E external/local_xla/xla/stream_executor/cuda/cuda_dnn.cc:9261] Unable to register cuDNN factory: Attempting to register factory for plugin cuDNN when one has already been registered\r\n",
      "2023-12-19 17:26:43.711971: E external/local_xla/xla/stream_executor/cuda/cuda_fft.cc:607] Unable to register cuFFT factory: Attempting to register factory for plugin cuFFT when one has already been registered\r\n",
      "2023-12-19 17:26:43.714340: E external/local_xla/xla/stream_executor/cuda/cuda_blas.cc:1515] Unable to register cuBLAS factory: Attempting to register factory for plugin cuBLAS when one has already been registered\r\n",
      "2023-12-19 17:26:45.462316: W tensorflow/compiler/tf2tensorrt/utils/py_utils.cc:38] TF-TRT Warning: Could not find TensorRT\r\n",
      "Serving TensorBoard on localhost; to expose to the network, use a proxy or pass --bind_all\r\n",
      "TensorBoard 2.15.1 at http://localhost:6006/ (Press CTRL+C to quit)\r\n",
      "^C\r\n"
     ]
    }
   ],
   "source": [
    "import tensorboard\n",
    "#COLAB\n",
    "#load_ext tensorboard\n",
    "#!tensorboard --logdir ultralytics/runs  # replace with 'runs' directory\n",
    "\n",
    "#LOCAL\n",
    "!tensorboard --load_fast=false --logdir /home/jpldev/Desktop/Gautier/SWOT/Workspace/YOLO/runs/detect/train3"
   ],
   "metadata": {
    "collapsed": false,
    "ExecuteTime": {
     "end_time": "2023-12-20T01:26:52.911807310Z",
     "start_time": "2023-12-20T01:26:41.371784867Z"
    }
   },
   "id": "2a89c019f4fae384"
  },
  {
   "cell_type": "code",
   "execution_count": null,
   "outputs": [],
   "source": [],
   "metadata": {
    "collapsed": false
   },
   "id": "ebed969d4acb054f"
  },
  {
   "cell_type": "code",
   "execution_count": 2,
   "outputs": [
    {
     "name": "stdout",
     "output_type": "stream",
     "text": [
      "2023-12-11 13:33:16.638762: I tensorflow/tsl/cuda/cudart_stub.cc:28] Could not find cuda drivers on your machine, GPU will not be used.\r\n",
      "2023-12-11 13:33:16.682283: E tensorflow/compiler/xla/stream_executor/cuda/cuda_dnn.cc:9342] Unable to register cuDNN factory: Attempting to register factory for plugin cuDNN when one has already been registered\r\n",
      "2023-12-11 13:33:16.682329: E tensorflow/compiler/xla/stream_executor/cuda/cuda_fft.cc:609] Unable to register cuFFT factory: Attempting to register factory for plugin cuFFT when one has already been registered\r\n",
      "2023-12-11 13:33:16.682365: E tensorflow/compiler/xla/stream_executor/cuda/cuda_blas.cc:1518] Unable to register cuBLAS factory: Attempting to register factory for plugin cuBLAS when one has already been registered\r\n",
      "2023-12-11 13:33:16.690163: I tensorflow/tsl/cuda/cudart_stub.cc:28] Could not find cuda drivers on your machine, GPU will not be used.\r\n",
      "2023-12-11 13:33:17.649166: W tensorflow/compiler/tf2tensorrt/utils/py_utils.cc:38] TF-TRT Warning: Could not find TensorRT\r\n",
      "2023-12-11 13:33:18.678527: I tensorflow/compiler/xla/stream_executor/cuda/cuda_gpu_executor.cc:894] successful NUMA node read from SysFS had negative value (-1), but there must be at least one NUMA node, so returning NUMA node zero. See more at https://github.com/torvalds/linux/blob/v6.0/Documentation/ABI/testing/sysfs-bus-pci#L344-L355\r\n",
      "2023-12-11 13:33:18.713053: W tensorflow/core/common_runtime/gpu/gpu_device.cc:2211] Cannot dlopen some GPU libraries. Please make sure the missing libraries mentioned above are installed properly if you would like to use GPU. Follow the guide at https://www.tensorflow.org/install/gpu for how to download and setup the required libraries for your platform.\r\n",
      "Skipping registering GPU devices...\r\n",
      "\r\n",
      "NOTE: Using experimental fast data loading logic. To disable, pass\r\n",
      "    \"--load_fast=false\" and report issues on GitHub. More details:\r\n",
      "    https://github.com/tensorflow/tensorboard/issues/4784\r\n",
      "\r\n",
      "Serving TensorBoard on localhost; to expose to the network, use a proxy or pass --bind_all\r\n",
      "TensorBoard 2.14.1 at http://localhost:6006/ (Press CTRL+C to quit)\r\n",
      "^C\r\n"
     ]
    }
   ],
   "source": [
    "import tensorboard\n",
    "#COLAB\n",
    "#load_ext tensorboard\n",
    "#!tensorboard --logdir ultralytics/runs  # replace with 'runs' directory\n",
    "\n",
    "#LOCAL\n",
    "#!tensorboard --logdir /home/jpldev/Documents/Workspace/YOLO/runs/detect/Others/av-ap-DA-v1-trained-3c/train46-n-150-ES-av-DA  # replace with 'runs' directory\n",
    "!tensorboard --logdir /home/jpldev/Documents/Workspace/YOLO/runs/detect/Others/train58n_381_ESb_cok\n"
   ],
   "metadata": {
    "collapsed": false,
    "ExecuteTime": {
     "end_time": "2023-12-11T21:38:44.340064262Z",
     "start_time": "2023-12-11T21:33:15.369020313Z"
    }
   },
   "id": "6965348f91650b74"
  },
  {
   "cell_type": "code",
   "execution_count": null,
   "outputs": [
    {
     "name": "stdout",
     "output_type": "stream",
     "text": [
      "2023-11-30 13:30:32.596709: I tensorflow/tsl/cuda/cudart_stub.cc:28] Could not find cuda drivers on your machine, GPU will not be used.\r\n",
      "2023-11-30 13:30:33.024023: E tensorflow/compiler/xla/stream_executor/cuda/cuda_dnn.cc:9342] Unable to register cuDNN factory: Attempting to register factory for plugin cuDNN when one has already been registered\r\n",
      "2023-11-30 13:30:33.024064: E tensorflow/compiler/xla/stream_executor/cuda/cuda_fft.cc:609] Unable to register cuFFT factory: Attempting to register factory for plugin cuFFT when one has already been registered\r\n",
      "2023-11-30 13:30:33.026383: E tensorflow/compiler/xla/stream_executor/cuda/cuda_blas.cc:1518] Unable to register cuBLAS factory: Attempting to register factory for plugin cuBLAS when one has already been registered\r\n",
      "2023-11-30 13:30:33.244895: I tensorflow/tsl/cuda/cudart_stub.cc:28] Could not find cuda drivers on your machine, GPU will not be used.\r\n",
      "2023-11-30 13:30:34.578628: W tensorflow/compiler/tf2tensorrt/utils/py_utils.cc:38] TF-TRT Warning: Could not find TensorRT\r\n",
      "2023-11-30 13:30:36.111410: I tensorflow/compiler/xla/stream_executor/cuda/cuda_gpu_executor.cc:894] successful NUMA node read from SysFS had negative value (-1), but there must be at least one NUMA node, so returning NUMA node zero. See more at https://github.com/torvalds/linux/blob/v6.0/Documentation/ABI/testing/sysfs-bus-pci#L344-L355\r\n",
      "2023-11-30 13:30:36.375726: W tensorflow/core/common_runtime/gpu/gpu_device.cc:2211] Cannot dlopen some GPU libraries. Please make sure the missing libraries mentioned above are installed properly if you would like to use GPU. Follow the guide at https://www.tensorflow.org/install/gpu for how to download and setup the required libraries for your platform.\r\n",
      "Skipping registering GPU devices...\r\n",
      "\r\n",
      "NOTE: Using experimental fast data loading logic. To disable, pass\r\n",
      "    \"--load_fast=false\" and report issues on GitHub. More details:\r\n",
      "    https://github.com/tensorflow/tensorboard/issues/4784\r\n",
      "\r\n",
      "Serving TensorBoard on localhost; to expose to the network, use a proxy or pass --bind_all\r\n",
      "TensorBoard 2.14.1 at http://localhost:6006/ (Press CTRL+C to quit)\r\n"
     ]
    }
   ],
   "source": [
    "import tensorboard\n",
    "#COLAB\n",
    "#load_ext tensorboard\n",
    "#!tensorboard --logdir ultralytics/runs  # replace with 'runs' directory\n",
    "\n",
    "#LOCAL\n",
    "!tensorboard --logdir /home/jpldev/Documents/Workspace/YOLO/runs/detect/Others/av-ap-DA-v1-trained/train46-n-150-ES-av-DA  # replace with 'runs' directory"
   ],
   "metadata": {
    "collapsed": false,
    "is_executing": true,
    "ExecuteTime": {
     "start_time": "2023-11-30T21:30:30.696079779Z"
    }
   },
   "id": "df18afd874b96186"
  },
  {
   "cell_type": "code",
   "execution_count": null,
   "outputs": [],
   "source": [],
   "metadata": {
    "collapsed": false
   },
   "id": "6b7fb4e1eb7caa97"
  }
 ],
 "metadata": {
  "kernelspec": {
   "display_name": "Python 3",
   "language": "python",
   "name": "python3"
  },
  "language_info": {
   "codemirror_mode": {
    "name": "ipython",
    "version": 2
   },
   "file_extension": ".py",
   "mimetype": "text/x-python",
   "name": "python",
   "nbconvert_exporter": "python",
   "pygments_lexer": "ipython2",
   "version": "2.7.6"
  }
 },
 "nbformat": 4,
 "nbformat_minor": 5
}
